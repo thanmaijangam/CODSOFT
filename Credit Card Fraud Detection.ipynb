# CREDDIT CARD FRAUD DETECTION
pwd
### Importing all the libraries
import seaborn as sns
import numpy as np
import pandas as pd
import matplotlib.pyplot as plt
from sklearn.model_selection import train_test_split
from sklearn.metrics import confusion_matrix, classification_report, accuracy_score
from sklearn.linear_model import LogisticRegression
from sklearn.preprocessing import StandardScaler, LabelEncoder
from sklearn.tree import DecisionTreeClassifier
from  sklearn.ensemble import RandomForestClassifier
### Load and Explore data
df_train = pd.read_csv('C:/Users/binod/OneDrive/Documents/Machine Learning (ML)/fraudTrain.csv', header = 0)
df_test = pd.read_csv('C:/Users/binod/OneDrive/Documents/Machine Learning (ML)/fraudTest.csv', header = 0)
df_train.head()
df_test.head()
df_train.tail()
df_train.shape
df_test.shape
df_train.size
df_test.size
df_train.info()
df_test.info()
df_train.describe()
df_test.describe()
df_train.isnull().values.any()
df_test.isnull().values.any()
df_train.count()
df_test.count()
df_combined = pd.concat([df_train, df_test], axis = 0)
df_combined.head()
df_combined.shape
df_combined.size
df_combined.info()
df_combined.drop(labels = ["first", "last", "job", "dob", "trans_num", "street", "trans_date_trans_time","city","state"], axis = 1, inplace = True)
df_combined.head()
### Data Visulization
sns.countplot(x='gender', data=df_combined)
plt.title("Gender Distribution")
plt.show()
correlation_matrix = df_combined.corr()
plt.figure(figsize = (12,8))
sns.heatmap(correlation_matrix, cmap = 'coolwarm', annot = False,  fmt=".2f")
plt.title("Correlation Matrix")
plt.show()
### Preprocess the Data
encoder = LabelEncoder()
new_col = encoder.fit_transform(df_combined["merchant"].values)
df_combined["merchant_new"] = new_col
df_combined.drop(labels = ["merchant"], axis = 1, inplace = True)
encoder = LabelEncoder()
new_col1 = encoder.fit_transform(df_combined["category"].values)
df_combined["category_new"] = new_col1
df_combined.drop(labels = ["category"], axis = 1, inplace = True)
df_combined = pd.get_dummies(df_combined)
df_combined.drop(labels=['gender_F'], axis = 1, inplace = True)
df_combined.head()
X = df_combined.drop("is_fraud", axis = 1)
y = df_combined["is_fraud"]
X_train, X_test, y_train, y_test = train_test_split(X, y, test_size=0.2, random_state=42)
Scaler = StandardScaler()
X_train = Scaler.fit_transform(X_train)
X_test = Scaler.transform(X_test)
### Train Logistic Regression Model
lr_model = LogisticRegression()
lr_model.fit(X_train, y_train)
lr_predictions = lr_model.predict(X_test)
print("Logistic Regression Model: ")
print(confusion_matrix(y_test, lr_predictions))
print(classification_report(y_test, lr_predictions))
print("Accuracy: ", accuracy_score(y_test, lr_predictions))
### Train Decision Tree Model
dt_model = DecisionTreeClassifier()
dt_model.fit(X_train, y_train)
dt_predictions = dt_model.predict(X_test)
print("Decision Tree Model: ")
print(confusion_matrix(y_test, dt_predictions))
print(classification_report(y_test, dt_predictions))
print("Accuracy: ", accuracy_score(y_test, dt_predictions))
###  Train Random Forest Model
rf_model = RandomForestClassifier(n_estimators=100, n_jobs=-1, random_state=42)
rf_model.fit(X_train, y_train)
rf_predictions = rf_model.predict(X_test)
print("Random Forest Model: ")
print(confusion_matrix(y_test, rf_predictions))
print(classification_report(y_test, rf_predictions))
print("Accuracy: ", accuracy_score(y_test, rf_predictions))
